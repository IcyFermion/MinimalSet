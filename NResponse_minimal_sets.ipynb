{
 "cells": [
  {
   "cell_type": "code",
   "execution_count": 1,
   "metadata": {},
   "outputs": [],
   "source": [
    "import pandas as pd\n",
    "import numpy as np\n",
    "from sklearn.ensemble import RandomForestRegressor\n",
    "from minimal_set import MinimalSetCalc"
   ]
  },
  {
   "cell_type": "code",
   "execution_count": 2,
   "metadata": {},
   "outputs": [],
   "source": [
    "target_feature = 'TotalNUE'\n",
    "cpu_cores = 10\n",
    "data_matrix = pd.read_csv('./data/NResponse_features.csv', index_col=0)\n",
    "X = data_matrix.iloc[:-2].T\n",
    "y = data_matrix.loc[target_feature]"
   ]
  },
  {
   "cell_type": "code",
   "execution_count": 3,
   "metadata": {},
   "outputs": [],
   "source": [
    "model = RandomForestRegressor(random_state=22, n_jobs=1)\n",
    "test_run = MinimalSetCalc(X, y, model, cpu_cores=10, num_iterations=10, feature_keep_rate=0.5)"
   ]
  },
  {
   "cell_type": "code",
   "execution_count": 4,
   "metadata": {},
   "outputs": [
    {
     "name": "stderr",
     "output_type": "stream",
     "text": [
      "  0%|          | 0/10 [00:00<?, ?it/s]"
     ]
    },
    {
     "name": "stdout",
     "output_type": "stream",
     "text": [
      "minimal sets calculation for seed: 0.............\n",
      "minimal sets calculation for seed: 1.............\n",
      "minimal sets calculation for seed: 2.............\n",
      "minimal sets calculation for seed: 3.............\n",
      "minimal sets calculation for seed: 4.............\n",
      "minimal sets calculation for seed: 5.............\n",
      "minimal sets calculation for seed: 6.............\n",
      "minimal sets calculation for seed: 7.............\n",
      "minimal sets calculation for seed: 8.............\n",
      "minimal sets calculation for seed: 9.............\n"
     ]
    },
    {
     "name": "stderr",
     "output_type": "stream",
     "text": [
      "100%|██████████| 10/10 [03:25<00:00, 20.51s/it]\n"
     ]
    }
   ],
   "source": [
    "test_result = test_run.execute('./output')"
   ]
  },
  {
   "cell_type": "code",
   "execution_count": null,
   "metadata": {},
   "outputs": [],
   "source": []
  }
 ],
 "metadata": {
  "kernelspec": {
   "display_name": "inf",
   "language": "python",
   "name": "python3"
  },
  "language_info": {
   "codemirror_mode": {
    "name": "ipython",
    "version": 3
   },
   "file_extension": ".py",
   "mimetype": "text/x-python",
   "name": "python",
   "nbconvert_exporter": "python",
   "pygments_lexer": "ipython3",
   "version": "3.9.18"
  }
 },
 "nbformat": 4,
 "nbformat_minor": 4
}
