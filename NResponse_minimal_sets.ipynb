{
 "cells": [
  {
   "cell_type": "code",
   "execution_count": 1,
   "metadata": {},
   "outputs": [],
   "source": [
    "# Library import\n",
    "import pandas as pd\n",
    "from sklearn.ensemble import RandomForestRegressor\n",
    "from minimal_set import MinimalSetCalc"
   ]
  },
  {
   "cell_type": "code",
   "execution_count": 2,
   "metadata": {},
   "outputs": [],
   "source": [
    "# variable definition\n",
    "target_feature_names = ['TotalNUE', 'GrainBiomass']\n",
    "cpu_cores = 10\n",
    "data_matrix = pd.read_csv('./data/NResponse_features.csv', index_col=0)\n",
    "# Feature data X in the shape of (n_observations, n_features)\n",
    "X = data_matrix.iloc[:-2].T\n",
    "# target data y in the shape of (n_targets, n_observations) or (n_observations,)\n",
    "y = data_matrix.loc[target_feature_names].values\n"
   ]
  },
  {
   "cell_type": "code",
   "execution_count": 3,
   "metadata": {},
   "outputs": [],
   "source": [
    "# model and calculation setup\n",
    "model = RandomForestRegressor(random_state=22, n_jobs=1)\n",
    "test_run = MinimalSetCalc(X, y, target_feature_names, model, cpu_cores=cpu_cores, num_iterations=100, feature_keep_rate=0.5)"
   ]
  },
  {
   "cell_type": "code",
   "execution_count": 4,
   "metadata": {},
   "outputs": [
    {
     "name": "stdout",
     "output_type": "stream",
     "text": [
      "Minimal Set calculation for TotalNUE... ...\n"
     ]
    },
    {
     "name": "stderr",
     "output_type": "stream",
     "text": [
      "  0%|          | 0/10 [00:00<?, ?it/s]"
     ]
    }
   ],
   "source": [
    "test_result = test_run.execute()"
   ]
  },
  {
   "cell_type": "code",
   "execution_count": null,
   "metadata": {},
   "outputs": [],
   "source": []
  }
 ],
 "metadata": {
  "kernelspec": {
   "display_name": "Python (pymc_env)",
   "language": "python",
   "name": "myenv"
  },
  "language_info": {
   "codemirror_mode": {
    "name": "ipython",
    "version": 3
   },
   "file_extension": ".py",
   "mimetype": "text/x-python",
   "name": "python",
   "nbconvert_exporter": "python",
   "pygments_lexer": "ipython3",
   "version": "3.11.7"
  }
 },
 "nbformat": 4,
 "nbformat_minor": 4
}
