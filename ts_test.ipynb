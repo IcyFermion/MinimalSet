{
 "cells": [
  {
   "cell_type": "code",
   "execution_count": 1,
   "metadata": {},
   "outputs": [],
   "source": [
    "%load_ext autoreload\n",
    "%autoreload 2"
   ]
  },
  {
   "cell_type": "code",
   "execution_count": 2,
   "metadata": {},
   "outputs": [],
   "source": [
    "# Library import\n",
    "import pandas as pd\n",
    "import numpy as np\n",
    "from sklearn.ensemble import RandomForestRegressor\n",
    "from minimal_set import MinimalSetCalc\n",
    "\n",
    "from sklearn.model_selection import cross_validate\n"
   ]
  },
  {
   "cell_type": "code",
   "execution_count": 3,
   "metadata": {},
   "outputs": [],
   "source": [
    "#  loading target and TF lists\n",
    "tf_list_df = pd.read_csv('./data/GSE97500/arabidopsis_tf.csv', names=['tf'])\n",
    "tf_list = tf_list_df['tf'].values\n",
    "\n",
    "target_list_df = pd.read_csv('./data/GSE97500/arabidopsis_target.csv', names=['target'])\n",
    "target_list = target_list_df['target'].values"
   ]
  },
  {
   "cell_type": "code",
   "execution_count": 4,
   "metadata": {},
   "outputs": [],
   "source": [
    "# loading expression data, data entries in source are one time step before target accordingly\n",
    "source_df = pd.read_csv('data/GSE97500/normalized/source.csv.gz', index_col=0, compression='gzip')\n",
    "target_df  = pd.read_csv('data/GSE97500/normalized/target.csv.gz', index_col=0, compression='gzip')"
   ]
  },
  {
   "cell_type": "code",
   "execution_count": 5,
   "metadata": {},
   "outputs": [
    {
     "name": "stdout",
     "output_type": "stream",
     "text": [
      "Index(['R5C-1', 'R10C-1', 'R15C-1', 'R20C-1', 'R30C-1', 'R45C-1', 'R5N-1',\n",
      "       'R10N-1', 'R15N-1', 'R20N-1', 'R30N-1', 'R45N-1', 'S5C-1', 'S10C-1',\n",
      "       'S15C-1', 'S20C-1', 'S30C-1', 'S45C-1', 'S5N-1', 'S10N-1', 'S15N-1',\n",
      "       'S20N-1', 'S30N-1', 'S45N-1', 'R5C-2', 'R10C-2', 'R15C-2', 'R20C-2',\n",
      "       'R30C-2', 'R45C-2', 'R5N-2', 'R10N-2', 'R15N-2', 'R20N-2', 'R30N-2',\n",
      "       'R45N-2', 'S5C-2', 'S10C-2', 'S15C-2', 'S20C-2', 'S30C-2', 'S45C-2',\n",
      "       'S5N-2', 'S10N-2', 'S15N-2', 'S20N-2', 'S30N-2', 'S45N-2', 'R5C-3',\n",
      "       'R10C-3', 'R15C-3', 'R20C-3', 'R30C-3', 'R45C-3', 'R5N-3', 'R10N-3',\n",
      "       'R15N-3', 'R20N-3', 'R30N-3', 'R45N-3', 'S5C-3', 'S10C-3', 'S15C-3',\n",
      "       'S20C-3', 'S30C-3', 'S45C-3', 'S5N-3', 'S10N-3', 'S15N-3', 'S20N-3',\n",
      "       'S30N-3', 'S45N-3', 'R60C-1', 'R90C-1', 'R60N-1', 'R90N-1', 'S60C-1',\n",
      "       'S90C-1', 'S60N-1', 'S90N-1', 'R60C-2', 'R90C-2', 'R60N-2', 'R90N-2',\n",
      "       'S60C-2', 'S90C-2', 'S60N-2', 'S90N-2', 'R60C-3', 'R90C-3', 'R60N-3',\n",
      "       'R90N-3', 'S60C-3', 'S90C-3', 'S60N-3', 'S90N-3'],\n",
      "      dtype='object')\n",
      "Index(['R10C-1', 'R15C-1', 'R20C-1', 'R30C-1', 'R45C-1', 'R60C-1', 'R10N-1',\n",
      "       'R15N-1', 'R20N-1', 'R30N-1', 'R45N-1', 'R60N-1', 'S10C-1', 'S15C-1',\n",
      "       'S20C-1', 'S30C-1', 'S45C-1', 'S60C-1', 'S10N-1', 'S15N-1', 'S20N-1',\n",
      "       'S30N-1', 'S45N-1', 'S60N-1', 'R10C-2', 'R15C-2', 'R20C-2', 'R30C-2',\n",
      "       'R45C-2', 'R60C-2', 'R10N-2', 'R15N-2', 'R20N-2', 'R30N-2', 'R45N-2',\n",
      "       'R60N-2', 'S10C-2', 'S15C-2', 'S20C-2', 'S30C-2', 'S45C-2', 'S60C-2',\n",
      "       'S10N-2', 'S15N-2', 'S20N-2', 'S30N-2', 'S45N-2', 'S60N-2', 'R10C-3',\n",
      "       'R15C-3', 'R20C-3', 'R30C-3', 'R45C-3', 'R60C-3', 'R10N-3', 'R15N-3',\n",
      "       'R20N-3', 'R30N-3', 'R45N-3', 'R60N-3', 'S10C-3', 'S15C-3', 'S20C-3',\n",
      "       'S30C-3', 'S45C-3', 'S60C-3', 'S10N-3', 'S15N-3', 'S20N-3', 'S30N-3',\n",
      "       'S45N-3', 'S60N-3', 'R90C-1', 'R120C-1', 'R90N-1', 'R120N-1', 'S90C-1',\n",
      "       'S120C-1', 'S90N-1', 'S120N-1', 'R90C-2', 'R120C-2', 'R90N-2',\n",
      "       'R120N-2', 'S90C-2', 'S120C-2', 'S90N-2', 'S120N-2', 'R90C-3',\n",
      "       'R120C-3', 'R90N-3', 'R120N-3', 'S90C-3', 'S120C-3', 'S90N-3',\n",
      "       'S120N-3'],\n",
      "      dtype='object')\n"
     ]
    }
   ],
   "source": [
    "print(source_df.index)\n",
    "print(target_df.index)"
   ]
  },
  {
   "cell_type": "code",
   "execution_count": 6,
   "metadata": {},
   "outputs": [],
   "source": [
    "cpu_cores = 10\n",
    "X = source_df[tf_list]\n",
    "y = target_df[target_list[5:10]].T.values\n",
    "repeating_y = source_df[target_list[5:10]].T.values\n",
    "# manually setup train/test split for time-series data\n",
    "ts_splits = [(np.arange(72), np.arange(72, 96))]"
   ]
  },
  {
   "cell_type": "code",
   "execution_count": 7,
   "metadata": {},
   "outputs": [],
   "source": [
    "# calculation setup\n",
    "test_run = MinimalSetCalc(X, y, target_list[5:10], \n",
    "                          cpu_cores=cpu_cores, \n",
    "                          num_iterations=100, \n",
    "                          feature_keep_rate=0.5, \n",
    "                          is_ts=True, \n",
    "                          ts_splits=ts_splits,\n",
    "                          repeating_y=repeating_y,\n",
    "                          output_dir='./output/arabidopsis_ts/')"
   ]
  },
  {
   "cell_type": "code",
   "execution_count": 8,
   "metadata": {},
   "outputs": [
    {
     "name": "stdout",
     "output_type": "stream",
     "text": [
      "Minimal Set calculation for AT2G33550... ...\n"
     ]
    },
    {
     "name": "stderr",
     "output_type": "stream",
     "text": [
      "  0%|          | 0/100 [00:00<?, ?it/s]"
     ]
    },
    {
     "name": "stdout",
     "output_type": "stream",
     "text": [
      "TtestResult(statistic=-1.082316156043936, pvalue=0.2903292708764925, df=23)\n",
      "TtestResult(statistic=-0.4042634572950374, pvalue=0.6897536436162621, df=23)\n",
      "TtestResult(statistic=1.1176100857487048, pvalue=0.2752721588378427, df=23)\n",
      "TtestResult(statistic=1.034871645741267, pvalue=0.3114879011588462, df=23)\n",
      "TtestResult(statistic=1.4891115368515524, pvalue=0.15004324346951686, df=23)\n",
      "TtestResult(statistic=0.8090131392061704, pvalue=0.42679771515651954, df=23)\n",
      "TtestResult(statistic=-0.7108703192231575, pvalue=0.48431170536993795, df=23)\n",
      "TtestResult(statistic=1.653687339170065, pvalue=0.11177675889371352, df=23)\n"
     ]
    },
    {
     "name": "stderr",
     "output_type": "stream",
     "text": [
      "  1%|          | 1/100 [00:06<10:51,  6.58s/it]\n"
     ]
    },
    {
     "ename": "UnboundLocalError",
     "evalue": "local variable 'current_squared_error' referenced before assignment",
     "output_type": "error",
     "traceback": [
      "\u001b[0;31m---------------------------------------------------------------------------\u001b[0m",
      "\u001b[0;31mRemoteTraceback\u001b[0m                           Traceback (most recent call last)",
      "\u001b[0;31mRemoteTraceback\u001b[0m: \n\"\"\"\nTraceback (most recent call last):\n  File \"/home/icy/miniconda3/envs/inf/lib/python3.9/multiprocessing/pool.py\", line 125, in worker\n    result = (True, func(*args, **kwds))\n  File \"/home/icy/code/MinimalSet/minimal_set.py\", line 118, in minimal_set_calc\n    print(stats.ttest_rel(current_squared_error, repeating_squared_error))\nUnboundLocalError: local variable 'current_squared_error' referenced before assignment\n\"\"\"",
      "\nThe above exception was the direct cause of the following exception:\n",
      "\u001b[0;31mUnboundLocalError\u001b[0m                         Traceback (most recent call last)",
      "\u001b[0;32m<ipython-input-8-f0a507396482>\u001b[0m in \u001b[0;36m<module>\u001b[0;34m\u001b[0m\n\u001b[0;32m----> 1\u001b[0;31m \u001b[0mtest_result\u001b[0m \u001b[0;34m=\u001b[0m \u001b[0mtest_run\u001b[0m\u001b[0;34m.\u001b[0m\u001b[0mexecute\u001b[0m\u001b[0;34m(\u001b[0m\u001b[0;34m)\u001b[0m\u001b[0;34m\u001b[0m\u001b[0;34m\u001b[0m\u001b[0m\n\u001b[0m",
      "\u001b[0;32m~/code/MinimalSet/minimal_set.py\u001b[0m in \u001b[0;36mexecute\u001b[0;34m(self, co_dependency_calc)\u001b[0m\n\u001b[1;32m    225\u001b[0m             \u001b[0mprint\u001b[0m\u001b[0;34m(\u001b[0m\u001b[0;34m'Minimal Set calculation for {}... ...'\u001b[0m\u001b[0;34m.\u001b[0m\u001b[0mformat\u001b[0m\u001b[0;34m(\u001b[0m\u001b[0mtarget_name\u001b[0m\u001b[0;34m)\u001b[0m\u001b[0;34m)\u001b[0m\u001b[0;34m\u001b[0m\u001b[0;34m\u001b[0m\u001b[0m\n\u001b[1;32m    226\u001b[0m             \u001b[0;32mwith\u001b[0m \u001b[0mPool\u001b[0m\u001b[0;34m(\u001b[0m\u001b[0mself\u001b[0m\u001b[0;34m.\u001b[0m\u001b[0mcpu_cores\u001b[0m\u001b[0;34m)\u001b[0m \u001b[0;32mas\u001b[0m \u001b[0mp\u001b[0m\u001b[0;34m:\u001b[0m\u001b[0;34m\u001b[0m\u001b[0;34m\u001b[0m\u001b[0m\n\u001b[0;32m--> 227\u001b[0;31m                 \u001b[0mresult_list\u001b[0m \u001b[0;34m=\u001b[0m \u001b[0mlist\u001b[0m\u001b[0;34m(\u001b[0m\u001b[0mtqdm\u001b[0m\u001b[0;34m(\u001b[0m\u001b[0mp\u001b[0m\u001b[0;34m.\u001b[0m\u001b[0mimap\u001b[0m\u001b[0;34m(\u001b[0m\u001b[0mself\u001b[0m\u001b[0;34m.\u001b[0m\u001b[0mminimal_set_calc\u001b[0m\u001b[0;34m,\u001b[0m \u001b[0mrange\u001b[0m\u001b[0;34m(\u001b[0m\u001b[0mself\u001b[0m\u001b[0;34m.\u001b[0m\u001b[0mnum_iterations\u001b[0m\u001b[0;34m)\u001b[0m\u001b[0;34m)\u001b[0m\u001b[0;34m,\u001b[0m \u001b[0mtotal\u001b[0m\u001b[0;34m=\u001b[0m\u001b[0mself\u001b[0m\u001b[0;34m.\u001b[0m\u001b[0mnum_iterations\u001b[0m\u001b[0;34m)\u001b[0m\u001b[0;34m)\u001b[0m\u001b[0;34m\u001b[0m\u001b[0;34m\u001b[0m\u001b[0m\n\u001b[0m\u001b[1;32m    228\u001b[0m             \u001b[0mfiltered_df\u001b[0m \u001b[0;34m=\u001b[0m \u001b[0mpd\u001b[0m\u001b[0;34m.\u001b[0m\u001b[0mconcat\u001b[0m\u001b[0;34m(\u001b[0m\u001b[0mresult_list\u001b[0m\u001b[0;34m,\u001b[0m \u001b[0mignore_index\u001b[0m\u001b[0;34m=\u001b[0m\u001b[0;32mTrue\u001b[0m\u001b[0;34m)\u001b[0m\u001b[0;34m\u001b[0m\u001b[0;34m\u001b[0m\u001b[0m\n\u001b[1;32m    229\u001b[0m             \u001b[0mfiltered_df\u001b[0m\u001b[0;34m.\u001b[0m\u001b[0mto_csv\u001b[0m\u001b[0;34m(\u001b[0m\u001b[0mself\u001b[0m\u001b[0;34m.\u001b[0m\u001b[0moutput_dir\u001b[0m\u001b[0;34m+\u001b[0m\u001b[0;34m'/'\u001b[0m\u001b[0;34m+\u001b[0m\u001b[0mtarget_name\u001b[0m\u001b[0;34m+\u001b[0m\u001b[0;34m'/filtered_minimal_sets.csv'\u001b[0m\u001b[0;34m)\u001b[0m\u001b[0;34m\u001b[0m\u001b[0;34m\u001b[0m\u001b[0m\n",
      "\u001b[0;32m~/miniconda3/envs/inf/lib/python3.9/site-packages/tqdm/std.py\u001b[0m in \u001b[0;36m__iter__\u001b[0;34m(self)\u001b[0m\n\u001b[1;32m   1180\u001b[0m \u001b[0;34m\u001b[0m\u001b[0m\n\u001b[1;32m   1181\u001b[0m         \u001b[0;32mtry\u001b[0m\u001b[0;34m:\u001b[0m\u001b[0;34m\u001b[0m\u001b[0;34m\u001b[0m\u001b[0m\n\u001b[0;32m-> 1182\u001b[0;31m             \u001b[0;32mfor\u001b[0m \u001b[0mobj\u001b[0m \u001b[0;32min\u001b[0m \u001b[0miterable\u001b[0m\u001b[0;34m:\u001b[0m\u001b[0;34m\u001b[0m\u001b[0;34m\u001b[0m\u001b[0m\n\u001b[0m\u001b[1;32m   1183\u001b[0m                 \u001b[0;32myield\u001b[0m \u001b[0mobj\u001b[0m\u001b[0;34m\u001b[0m\u001b[0;34m\u001b[0m\u001b[0m\n\u001b[1;32m   1184\u001b[0m                 \u001b[0;31m# Update and possibly print the progressbar.\u001b[0m\u001b[0;34m\u001b[0m\u001b[0;34m\u001b[0m\u001b[0m\n",
      "\u001b[0;32m~/miniconda3/envs/inf/lib/python3.9/multiprocessing/pool.py\u001b[0m in \u001b[0;36mnext\u001b[0;34m(self, timeout)\u001b[0m\n\u001b[1;32m    868\u001b[0m         \u001b[0;32mif\u001b[0m \u001b[0msuccess\u001b[0m\u001b[0;34m:\u001b[0m\u001b[0;34m\u001b[0m\u001b[0;34m\u001b[0m\u001b[0m\n\u001b[1;32m    869\u001b[0m             \u001b[0;32mreturn\u001b[0m \u001b[0mvalue\u001b[0m\u001b[0;34m\u001b[0m\u001b[0;34m\u001b[0m\u001b[0m\n\u001b[0;32m--> 870\u001b[0;31m         \u001b[0;32mraise\u001b[0m \u001b[0mvalue\u001b[0m\u001b[0;34m\u001b[0m\u001b[0;34m\u001b[0m\u001b[0m\n\u001b[0m\u001b[1;32m    871\u001b[0m \u001b[0;34m\u001b[0m\u001b[0m\n\u001b[1;32m    872\u001b[0m     \u001b[0m__next__\u001b[0m \u001b[0;34m=\u001b[0m \u001b[0mnext\u001b[0m                    \u001b[0;31m# XXX\u001b[0m\u001b[0;34m\u001b[0m\u001b[0;34m\u001b[0m\u001b[0m\n",
      "\u001b[0;31mUnboundLocalError\u001b[0m: local variable 'current_squared_error' referenced before assignment"
     ]
    }
   ],
   "source": [
    "test_result = test_run.execute()"
   ]
  },
  {
   "cell_type": "code",
   "execution_count": 16,
   "metadata": {},
   "outputs": [
    {
     "data": {
      "text/html": [
       "<div>\n",
       "<style scoped>\n",
       "    .dataframe tbody tr th:only-of-type {\n",
       "        vertical-align: middle;\n",
       "    }\n",
       "\n",
       "    .dataframe tbody tr th {\n",
       "        vertical-align: top;\n",
       "    }\n",
       "\n",
       "    .dataframe thead th {\n",
       "        text-align: right;\n",
       "    }\n",
       "</style>\n",
       "<table border=\"1\" class=\"dataframe\">\n",
       "  <thead>\n",
       "    <tr style=\"text-align: right;\">\n",
       "      <th></th>\n",
       "      <th>AT1G50600</th>\n",
       "      <th>AT1G68670</th>\n",
       "      <th>AT3G20740</th>\n",
       "      <th>AT2G02955</th>\n",
       "      <th>AT1G35160</th>\n",
       "      <th>AT1G09540</th>\n",
       "      <th>AT5G62610</th>\n",
       "      <th>AT2G24790</th>\n",
       "      <th>AT1G69560</th>\n",
       "      <th>AT1G36060</th>\n",
       "      <th>...</th>\n",
       "      <th>AT4G23980</th>\n",
       "      <th>AT4G18780</th>\n",
       "      <th>AT4G17600</th>\n",
       "      <th>AT3G59060</th>\n",
       "      <th>AT1G22640</th>\n",
       "      <th>AT3G09735</th>\n",
       "      <th>AT5G19660</th>\n",
       "      <th>AT5G13220</th>\n",
       "      <th>AT5G43270</th>\n",
       "      <th>AT5G56550</th>\n",
       "    </tr>\n",
       "  </thead>\n",
       "  <tbody>\n",
       "    <tr>\n",
       "      <th>R5C-1</th>\n",
       "      <td>0.105074</td>\n",
       "      <td>-0.167808</td>\n",
       "      <td>-0.200711</td>\n",
       "      <td>-0.151833</td>\n",
       "      <td>1.649072</td>\n",
       "      <td>-0.185643</td>\n",
       "      <td>-0.077109</td>\n",
       "      <td>0.644344</td>\n",
       "      <td>-0.241676</td>\n",
       "      <td>0.408287</td>\n",
       "      <td>...</td>\n",
       "      <td>-0.016751</td>\n",
       "      <td>-0.217627</td>\n",
       "      <td>-0.234164</td>\n",
       "      <td>-0.240539</td>\n",
       "      <td>0.159331</td>\n",
       "      <td>1.169852</td>\n",
       "      <td>-0.108800</td>\n",
       "      <td>-0.232216</td>\n",
       "      <td>-0.126470</td>\n",
       "      <td>-0.184629</td>\n",
       "    </tr>\n",
       "    <tr>\n",
       "      <th>R10C-1</th>\n",
       "      <td>-0.065907</td>\n",
       "      <td>-0.105551</td>\n",
       "      <td>-0.157412</td>\n",
       "      <td>-0.143061</td>\n",
       "      <td>0.479051</td>\n",
       "      <td>-0.153203</td>\n",
       "      <td>-0.103413</td>\n",
       "      <td>1.032698</td>\n",
       "      <td>-0.160235</td>\n",
       "      <td>0.629834</td>\n",
       "      <td>...</td>\n",
       "      <td>-0.025119</td>\n",
       "      <td>-0.154395</td>\n",
       "      <td>-0.156286</td>\n",
       "      <td>-0.155214</td>\n",
       "      <td>0.008184</td>\n",
       "      <td>0.397888</td>\n",
       "      <td>-0.094708</td>\n",
       "      <td>-0.158239</td>\n",
       "      <td>-0.113241</td>\n",
       "      <td>-0.159600</td>\n",
       "    </tr>\n",
       "  </tbody>\n",
       "</table>\n",
       "<p>2 rows × 2010 columns</p>\n",
       "</div>"
      ],
      "text/plain": [
       "        AT1G50600  AT1G68670  AT3G20740  AT2G02955  AT1G35160  AT1G09540  \\\n",
       "R5C-1    0.105074  -0.167808  -0.200711  -0.151833   1.649072  -0.185643   \n",
       "R10C-1  -0.065907  -0.105551  -0.157412  -0.143061   0.479051  -0.153203   \n",
       "\n",
       "        AT5G62610  AT2G24790  AT1G69560  AT1G36060  ...  AT4G23980  AT4G18780  \\\n",
       "R5C-1   -0.077109   0.644344  -0.241676   0.408287  ...  -0.016751  -0.217627   \n",
       "R10C-1  -0.103413   1.032698  -0.160235   0.629834  ...  -0.025119  -0.154395   \n",
       "\n",
       "        AT4G17600  AT3G59060  AT1G22640  AT3G09735  AT5G19660  AT5G13220  \\\n",
       "R5C-1   -0.234164  -0.240539   0.159331   1.169852  -0.108800  -0.232216   \n",
       "R10C-1  -0.156286  -0.155214   0.008184   0.397888  -0.094708  -0.158239   \n",
       "\n",
       "        AT5G43270  AT5G56550  \n",
       "R5C-1   -0.126470  -0.184629  \n",
       "R10C-1  -0.113241  -0.159600  \n",
       "\n",
       "[2 rows x 2010 columns]"
      ]
     },
     "execution_count": 16,
     "metadata": {},
     "output_type": "execute_result"
    }
   ],
   "source": [
    "X.iloc[[0,1]]"
   ]
  },
  {
   "cell_type": "code",
   "execution_count": null,
   "metadata": {},
   "outputs": [],
   "source": []
  }
 ],
 "metadata": {
  "kernelspec": {
   "display_name": "inf",
   "language": "python",
   "name": "python3"
  },
  "language_info": {
   "codemirror_mode": {
    "name": "ipython",
    "version": 3
   },
   "file_extension": ".py",
   "mimetype": "text/x-python",
   "name": "python",
   "nbconvert_exporter": "python",
   "pygments_lexer": "ipython3",
   "version": "3.9.18"
  }
 },
 "nbformat": 4,
 "nbformat_minor": 2
}
