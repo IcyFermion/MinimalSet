{
 "cells": [
  {
   "cell_type": "code",
   "execution_count": 1,
   "metadata": {},
   "outputs": [],
   "source": [
    "%load_ext autoreload\n",
    "%autoreload 2"
   ]
  },
  {
   "cell_type": "code",
   "execution_count": 12,
   "metadata": {},
   "outputs": [],
   "source": [
    "# Library import\n",
    "import pandas as pd\n",
    "import numpy as np\n",
    "from sklearn.ensemble import RandomForestRegressor\n",
    "from minimal_set import MinimalSetCalc\n",
    "import re\n",
    "from sklearn.model_selection import cross_validate\n"
   ]
  },
  {
   "cell_type": "code",
   "execution_count": 3,
   "metadata": {},
   "outputs": [],
   "source": [
    "#  loading target and TF lists\n",
    "tf_list_df = pd.read_csv('./data/GSE97500/arabidopsis_tf.csv', names=['tf'])\n",
    "tf_list = tf_list_df['tf'].values\n",
    "target_list_df = pd.read_csv('./data/GSE97500/arabidopsis_target.csv', names=['target'])\n",
    "target_list = target_list_df['target'].value\n",
    "# load all expression data\n",
    "ts_df = pd.read_csv('data/GSE97500/normalized/all.csv.gz', compression='gzip', index_col=0)"
   ]
  },
  {
   "cell_type": "code",
   "execution_count": null,
   "metadata": {},
   "outputs": [],
   "source": [
    "cpu_cores = 10\n",
    "X = ts_df[tf_list]\n",
    "y = ts_df[target_list[6:10]]"
   ]
  },
  {
   "cell_type": "code",
   "execution_count": null,
   "metadata": {},
   "outputs": [],
   "source": [
    "# calculation setup\n",
    "test_run = MinimalSetCalc(X, y, target_list[6:10], \n",
    "                          cpu_cores=cpu_cores, \n",
    "                          num_iterations=100, \n",
    "                          feature_keep_rate=0.5, \n",
    "                          is_ts=True, \n",
    "                          output_dir='./output/arabidopsis_ts/',\n",
    "                          ts_meta_df='data/GSE97500/ts_meta.csv')"
   ]
  },
  {
   "cell_type": "code",
   "execution_count": null,
   "metadata": {},
   "outputs": [],
   "source": [
    "test_result = test_run.execute()"
   ]
  }
 ],
 "metadata": {
  "kernelspec": {
   "display_name": "inf",
   "language": "python",
   "name": "python3"
  },
  "language_info": {
   "codemirror_mode": {
    "name": "ipython",
    "version": 3
   },
   "file_extension": ".py",
   "mimetype": "text/x-python",
   "name": "python",
   "nbconvert_exporter": "python",
   "pygments_lexer": "ipython3",
   "version": "3.9.18"
  }
 },
 "nbformat": 4,
 "nbformat_minor": 2
}
